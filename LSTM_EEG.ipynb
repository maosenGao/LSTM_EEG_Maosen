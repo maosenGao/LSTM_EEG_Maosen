{
 "metadata": {
  "language_info": {
   "codemirror_mode": {
    "name": "ipython",
    "version": 3
   },
   "file_extension": ".py",
   "mimetype": "text/x-python",
   "name": "python",
   "nbconvert_exporter": "python",
   "pygments_lexer": "ipython3",
   "version": "3.6.5-final"
  },
  "orig_nbformat": 2,
  "kernelspec": {
   "name": "python_defaultSpec_1600828562582",
   "display_name": "Python 3.6.5 64-bit ('base': conda)"
  }
 },
 "nbformat": 4,
 "nbformat_minor": 2,
 "cells": [
  {
   "cell_type": "code",
   "execution_count": 1,
   "metadata": {
    "tags": []
   },
   "outputs": [
    {
     "output_type": "stream",
     "name": "stderr",
     "text": "Using TensorFlow backend.\n"
    }
   ],
   "source": [
    "# 导入工具包\n",
    "from keras.models import Sequential\n",
    "from keras.layers import Dense, Dropout, Activation\n",
    "from keras.layers import Embedding\n",
    "from keras.layers import SimpleRNN, LSTM, GRU\n",
    "from keras.optimizers import SGD, Nadam, Adam, RMSprop\n",
    "from keras.callbacks import TensorBoard\n",
    "from keras.utils import np_utils\n",
    "import scipy.io \n",
    "import numpy as np"
   ]
  },
  {
   "source": [
    "# 第一步：导入数据"
   ],
   "cell_type": "markdown",
   "metadata": {}
  },
  {
   "cell_type": "code",
   "execution_count": 2,
   "metadata": {
    "tags": []
   },
   "outputs": [
    {
     "output_type": "stream",
     "name": "stdout",
     "text": "len(data): 7\n{'__header__': b'MATLAB 5.0 MAT-file, Platform: GLNX86, Created on: Fri Nov  8 16:06:57 2002', '__version__': '1.0', '__globals__': [], 'clab': array([[array(['F3'], dtype='<U2'), array(['F1'], dtype='<U2'),\n        array(['Fz'], dtype='<U2'), array(['F2'], dtype='<U2'),\n        array(['F4'], dtype='<U2'), array(['FC5'], dtype='<U3'),\n        array(['FC3'], dtype='<U3'), array(['FC1'], dtype='<U3'),\n        array(['FCz'], dtype='<U3'), array(['FC2'], dtype='<U3'),\n        array(['FC4'], dtype='<U3'), array(['FC6'], dtype='<U3'),\n        array(['C5'], dtype='<U2'), array(['C3'], dtype='<U2'),\n        array(['C1'], dtype='<U2'), array(['Cz'], dtype='<U2'),\n        array(['C2'], dtype='<U2'), array(['C4'], dtype='<U2'),\n        array(['C6'], dtype='<U2'), array(['CP5'], dtype='<U3'),\n        array(['CP3'], dtype='<U3'), array(['CP1'], dtype='<U3'),\n        array(['CPz'], dtype='<U3'), array(['CP2'], dtype='<U3'),\n        array(['CP4'], dtype='<U3'), array(['CP6'], dtype='<U3'),\n        array(['O1'], dtype='<U2'), array(['O2'], dtype='<U2')]],\n      dtype=object), 'x_train': array([[[ 30.8, 135.7,  69.4, ...,  92.9,  75.4,  81. ],\n        [-22.6,  16.9,  13.2, ...,  15.3,  31.3,  45.2],\n        [ 11.2,  23.9,  63.4, ...,  66. ,  89.9, 121.8],\n        ...,\n        [  0.5, -18.8,   3.2, ...,  13.7,  31.3,  73.5],\n        [ 11. ,   6.1,   5.2, ...,  26. ,  39.2,  78.9],\n        [ -9.9, -27.5, -19.9, ...,  18.2,  26.4,  71.1]],\n\n       [[ 33.1, 132. ,  64.1, ...,  94.7,  68.6,  79.2],\n        [-19.2,  13. ,   2.1, ...,  18.5,  23.7,  42.5],\n        [ 16.7,  24.3,  54.1, ...,  70. ,  79. , 118.6],\n        ...,\n        [  0.5, -23. ,   6.5, ...,  11.5,  30.2,  76.1],\n        [ 10.6,   0.5,   9.3, ...,  23.5,  37.9,  82.6],\n        [-10. , -31.8, -16.9, ...,  15.6,  24.9,  76.1]],\n\n       [[ 37.9, 126.9,  59.2, ...,  95.7,  67.6,  75. ],\n        [-11.8,   8.7,  -7.8, ...,  19. ,  20.3,  39.1],\n        [ 26.4,  20.1,  45.6, ...,  72.7,  75.4, 110.7],\n        ...,\n        [  0.4, -27.4,   8.8, ...,  11.9,  30.5,  78.4],\n        [  9.8,  -5.5,  12.9, ...,  23.8,  38.4,  86.8],\n        [-10.3, -36.7, -14.5, ...,  15.8,  24.8,  80.6]],\n\n       ...,\n\n       [[ 76.9,  82.7,  59.7, ...,  73.7,  68.5,  77.2],\n        [ 26.8, -30.1,   9.4, ...,  -5.2,  20.9,  31.5],\n        [ 64.1, -15.7,  56.2, ...,  44.8,  86. , 108.3],\n        ...,\n        [ 45.1, -16.5,  10.3, ...,  -4.4,  15.8,  92. ],\n        [ 41.7,  14.3,   4. , ...,  21.2,  26.9,  97.6],\n        [ 32.9, -16.6,  10.7, ...,   6.7,  15.4, 105.9]],\n\n       [[ 75.9,  88.2,  64.8, ...,  70.6,  69.3,  79.9],\n        [ 22.9, -20.7,  16.2, ..., -10.9,  20.1,  36.4],\n        [ 62. ,  -8.7,  64.2, ...,  42.3,  87.1, 111.6],\n        ...,\n        [ 46.2, -16.9,   8.8, ...,  -2.2,  14.9,  88.4],\n        [ 41.5,  13.8,   2.2, ...,  22.1,  25.5,  93.6],\n        [ 33.8, -17. ,   9.1, ...,   7.8,  13.2, 102.7]],\n\n       [[ 72.3,  92.5,  69.7, ...,  70.4,  63.7,  83.5],\n        [ 16.4, -14.6,  21.7, ..., -10.7,  14.3,  40.5],\n        [ 55.9,  -1.5,  71.7, ...,  43. ,  79.1, 116.6],\n        ...,\n        [ 46.6, -16. ,   8.8, ...,  -1.5,  12.5,  86.5],\n        [ 40.9,  14.6,   0.2, ...,  21.6,  23.9,  91.5],\n        [ 32.8, -16.1,   8. , ...,   7.5,  10.7, 102.2]]]), 'y_train': array([[0, 1, 0, 1, 0, 1, 0, 1, 0, 0, 1, 1, 0, 0, 1, 1, 1, 0, 0, 1, 0, 0,\n        1, 0, 1, 0, 0, 0, 0, 0, 0, 0, 1, 1, 1, 1, 1, 1, 0, 1, 0, 1, 0, 0,\n        1, 0, 1, 1, 0, 1, 1, 0, 0, 1, 0, 0, 1, 0, 1, 0, 1, 0, 0, 1, 0, 0,\n        0, 0, 0, 1, 0, 1, 0, 0, 0, 0, 0, 1, 1, 1, 0, 1, 0, 1, 1, 1, 1, 1,\n        1, 1, 1, 1, 0, 0, 0, 0, 1, 1, 1, 0, 1, 1, 1, 0, 1, 0, 1, 1, 1, 0,\n        1, 0, 1, 0, 0, 0, 1, 0, 0, 1, 1, 1, 1, 0, 1, 1, 0, 0, 1, 1, 1, 1,\n        1, 0, 0, 0, 0, 1, 1, 0, 1, 1, 1, 1, 1, 1, 1, 0, 0, 0, 1, 1, 0, 0,\n        1, 1, 0, 0, 0, 0, 0, 1, 1, 1, 1, 1, 1, 0, 1, 0, 1, 1, 0, 1, 0, 0,\n        1, 1, 1, 0, 0, 1, 0, 0, 0, 0, 0, 1, 1, 0, 0, 0, 0, 1, 0, 0, 0, 1,\n        0, 0, 1, 0, 0, 0, 1, 1, 1, 0, 0, 0, 1, 1, 1, 0, 0, 0, 1, 0, 1, 1,\n        1, 1, 1, 1, 1, 0, 1, 0, 0, 0, 1, 0, 1, 1, 1, 0, 1, 1, 0, 0, 0, 1,\n        1, 0, 1, 1, 0, 1, 1, 1, 1, 1, 0, 1, 0, 1, 0, 0, 0, 0, 0, 0, 1, 1,\n        1, 0, 1, 1, 1, 0, 1, 0, 0, 1, 1, 0, 0, 1, 0, 0, 1, 0, 0, 0, 1, 0,\n        0, 1, 1, 0, 0, 1, 1, 1, 0, 1, 0, 1, 1, 1, 0, 1, 1, 0, 1, 0, 0, 0,\n        0, 0, 0, 0, 0, 0, 0, 0]], dtype=uint8), 'x_test': array([[[-23.8,  84.1,  62.7, ..., 141.7,  95.9, 121.4],\n        [-82.4,  47.7,  -9.6, ...,  35. ,  27. ,  47.9],\n        [-19.5,  92.6,  43.9, ...,  53.3,  77.7,  79.3],\n        ...,\n        [-30.1,  62.8,  22.1, ...,   5.1,   3.4,  10.9],\n        [-16.1,  77. ,  35.1, ...,  15. ,  10.6,  15.7],\n        [-46.5,  63.2,  29.3, ...,  -9.3, -22.3,  10.3]],\n\n       [[-24.5,  88. ,  64.6, ..., 142.7,  93.6, 121.5],\n        [-85.9,  50.8,  -9.3, ...,  32.5,  23.8,  49.7],\n        [-25.9,  98.2,  45.7, ...,  49.7,  76.7,  80.6],\n        ...,\n        [-29.5,  64.6,  18.9, ...,   7.2,   5.8,  12.4],\n        [-13.3,  78.4,  32.1, ...,  20.6,  12. ,  16.4],\n        [-44.6,  65.7,  26.3, ...,  -4.9, -18.9,  10.6]],\n\n       [[-20.6,  86.8,  64.5, ..., 143.2,  94.2, 123. ],\n        [-87.1,  46.6, -10. , ...,  32. ,  25.3,  51.3],\n        [-26.9,  93.6,  44.8, ...,  50.3,  77.8,  82.6],\n        ...,\n        [-27.1,  69. ,  17.8, ...,   6.6,   7.3,  13.3],\n        [ -7.5,  82.2,  31.2, ...,  20.5,  12.2,  16.7],\n        [-39.9,  70.6,  25.4, ...,  -4.8, -15.8,   9.8]],\n\n       ...,\n\n       [[ 10.2,  74.1,  62. , ...,  79.5,  74.6,  53. ],\n        [-35.2,  35. ,   4.3, ..., -13.5,   2.9, -18.6],\n        [ 20.1,  70.7,  55.4, ...,  16.2,  43.5,  23.7],\n        ...,\n        [-33.6,  33. ,  12.4, ..., -32.8,   6.6,   0. ],\n        [-22.7,  65.1,  21.5, ..., -13. ,  30.2,   1.6],\n        [-55.4,  46.3,   9.3, ..., -29.2,   9.4,  -7.1]],\n\n       [[  5.6,  70.5,  55. , ...,  72.9,  78.8,  58.4],\n        [-46. ,  33.8,  -3.7, ..., -24. ,  10.3, -11.5],\n        [ 12.7,  68.4,  44.2, ...,   6.8,  52.9,  33.4],\n        ...,\n        [-32.8,  33.7,  11.3, ..., -32.6,   4.6,   2. ],\n        [-21. ,  67.6,  20.4, ..., -12.8,  27.7,   1.6],\n        [-54.7,  48.7,   8.6, ..., -28.9,   7.3,  -6.8]],\n\n       [[  2.1,  70.7,  53.5, ...,  68.4,  80. ,  58. ],\n        [-54.5,  33.6,  -9.9, ..., -31. ,  12.9,  -7.8],\n        [  6.6,  68.8,  38.9, ...,  -2.4,  57.4,  38.9],\n        ...,\n        [-31.3,  35.5,   9.8, ..., -32.4,   3.8,   1.6],\n        [-17.5,  69.6,  18.4, ..., -11.6,  26.6,  -0.8],\n        [-52.5,  51.3,   6.9, ..., -28.3,   6.4,  -9. ]]])}\nlen(y_test): 100\n"
    }
   ],
   "source": [
    "data = scipy.io.loadmat('DATA\\sp1s_aa_1000Hz.mat') # 'dict' object \n",
    "# data = scipy.io.loadmat('DATA\\sp1s_aa.mat')\n",
    "y_test = np.loadtxt('DATA\\labels of the test set.txt',encoding=\"utf-8\")\n",
    "\n",
    "print(\"len(data):\",len(data))\n",
    "print(data)\n",
    "print(\"len(y_test):\",len(y_test))"
   ]
  },
  {
   "source": [
    "# 第二步：预处理数据"
   ],
   "cell_type": "markdown",
   "metadata": {}
  },
  {
   "cell_type": "code",
   "execution_count": 3,
   "metadata": {},
   "outputs": [],
   "source": [
    "\"\"\"\n",
    "将训练数据调整为LSTM的正确输入尺寸\n",
    "并将数据转换为float 32\n",
    "\"\"\"\n",
    "x_train = data['x_train'].reshape((316,500,28))\n",
    "x_train /= 200\n",
    "x_train = x_train.astype('float32')\n",
    "\"\"\"\n",
    "将测试数据调整为LSTM的正确输入尺寸\n",
    "并将数据转换为float 32\n",
    "\"\"\"\n",
    "x_test = data['x_test'].reshape((100,500,28))\n",
    "x_test /= 200\n",
    "x_test = x_test.astype('float32')\n",
    "\n",
    "\"\"\"\n",
    "将标签数据调整为LSTM的正确输入尺寸\n",
    "并将数据转换为float 32\n",
    "\"\"\"\n",
    "y_train = data['y_train'].reshape(316,1)\n",
    "tmp_train = []\n",
    "for i in y_train:\n",
    "    if i == 1:\n",
    "        tmp_train.append(1)\n",
    "    elif i == 0:\n",
    "        tmp_train.append(-1)\n",
    "y_train = np.array(tmp_train)\n",
    "y_train = np_utils.to_categorical(y_train, 2)\n",
    "y_train = y_train.astype('float32')\n",
    "\n",
    "y_test = y_test.reshape(100,1)\n",
    "tmp_test = []\n",
    "for i in y_test:\n",
    "    if i == 1:\n",
    "        tmp_test.append(1)\n",
    "    elif i == 0:\n",
    "        tmp_test.append(-1)       \n",
    "y_test = np.array(tmp_test)\n",
    "y_test = np_utils.to_categorical(y_test, 2)\n",
    "y_test = y_test.astype('float32')"
   ]
  },
  {
   "cell_type": "code",
   "execution_count": 4,
   "metadata": {},
   "outputs": [],
   "source": [
    "# 第三步：构建训练模型"
   ]
  },
  {
   "cell_type": "code",
   "execution_count": 5,
   "metadata": {
    "tags": []
   },
   "outputs": [
    {
     "output_type": "stream",
     "name": "stdout",
     "text": "Model: \"sequential_1\"\n_________________________________________________________________\nLayer (type)                 Output Shape              Param #   \n=================================================================\nlstm_1 (LSTM)                (None, 500, 10)           1560      \n_________________________________________________________________\nlstm_2 (LSTM)                (None, 500, 10)           840       \n_________________________________________________________________\nlstm_3 (LSTM)                (None, 5)                 320       \n_________________________________________________________________\ndense_1 (Dense)              (None, 2)                 12        \n=================================================================\nTotal params: 2,732\nTrainable params: 2,732\nNon-trainable params: 0\n_________________________________________________________________\n"
    }
   ],
   "source": [
    "model = Sequential()\n",
    "model.add(LSTM(10, return_sequences = True, input_shape=(500, 28)))\n",
    "model.add(LSTM(10, return_sequences = True))\n",
    "model.add(LSTM(5))\n",
    "model.add(Dense(2, activation = 'softmax'))\n",
    "\n",
    "model.summary()\n",
    "\n",
    "\"\"\"\n",
    "优化器设置\n",
    "学习率为0.001\n",
    "\"\"\"\n",
    "optim = Nadam(lr = 0.001)\n",
    "# 设置损失函数为交叉熵损失函数\n",
    "model.compile(loss = 'categorical_crossentropy', optimizer = optim, metrics = ['accuracy'])"
   ]
  },
  {
   "cell_type": "code",
   "execution_count": 6,
   "metadata": {},
   "outputs": [],
   "source": [
    "# 第四步：训练模型"
   ]
  },
  {
   "cell_type": "code",
   "execution_count": 7,
   "metadata": {
    "tags": []
   },
   "outputs": [
    {
     "output_type": "stream",
     "name": "stdout",
     "text": "WARNING:tensorflow:From D:\\anacon\\lib\\site-packages\\keras\\backend\\tensorflow_backend.py:422: The name tf.global_variables is deprecated. Please use tf.compat.v1.global_variables instead.\n\nEpoch 1/15\n316/316 [==============================] - 7s 23ms/step - loss: 0.5554 - accuracy: 0.9937\nEpoch 2/15\n316/316 [==============================] - 7s 21ms/step - loss: 0.3210 - accuracy: 1.0000\nEpoch 3/15\n316/316 [==============================] - 7s 22ms/step - loss: 0.1597 - accuracy: 1.0000\nEpoch 4/15\n316/316 [==============================] - 7s 21ms/step - loss: 0.0928 - accuracy: 1.0000\nEpoch 5/15\n316/316 [==============================] - 7s 22ms/step - loss: 0.0630 - accuracy: 1.0000\nEpoch 6/15\n316/316 [==============================] - 7s 22ms/step - loss: 0.0475 - accuracy: 1.0000\nEpoch 7/15\n316/316 [==============================] - 7s 22ms/step - loss: 0.0381 - accuracy: 1.0000\nEpoch 8/15\n316/316 [==============================] - 7s 23ms/step - loss: 0.0314 - accuracy: 1.0000\nEpoch 9/15\n316/316 [==============================] - 7s 22ms/step - loss: 0.0263 - accuracy: 1.0000\nEpoch 10/15\n316/316 [==============================] - 7s 22ms/step - loss: 0.0224 - accuracy: 1.0000\nEpoch 11/15\n316/316 [==============================] - 8s 26ms/step - loss: 0.0193 - accuracy: 1.0000\nEpoch 12/15\n316/316 [==============================] - 9s 28ms/step - loss: 0.0169 - accuracy: 1.0000\nEpoch 13/15\n316/316 [==============================] - 6s 20ms/step - loss: 0.0150 - accuracy: 1.0000\nEpoch 14/15\n316/316 [==============================] - 7s 22ms/step - loss: 0.0134 - accuracy: 1.0000\nEpoch 15/15\n316/316 [==============================] - 8s 26ms/step - loss: 0.0120 - accuracy: 1.0000\n"
    },
    {
     "output_type": "execute_result",
     "data": {
      "text/plain": "<keras.callbacks.callbacks.History at 0x1eff007bcc0>"
     },
     "metadata": {},
     "execution_count": 7
    }
   ],
   "source": [
    "\"\"\"\n",
    "\n",
    "epochs设置为10\n",
    "batch_size设置为20\n",
    "\n",
    "\"\"\"\n",
    "\n",
    "model.fit(x_train, y_train, epochs=15, batch_size=20)"
   ]
  },
  {
   "source": [
    "# 第五步：计算最后得分和精度"
   ],
   "cell_type": "markdown",
   "metadata": {}
  },
  {
   "cell_type": "code",
   "execution_count": 8,
   "metadata": {
    "tags": []
   },
   "outputs": [
    {
     "output_type": "stream",
     "name": "stdout",
     "text": "100/100 [==============================] - 10s 104ms/step\n测试得分: 0.011368723306804895\n测试精度: 1.0\n"
    }
   ],
   "source": [
    "score, acc = model.evaluate(x_test, y_test,\n",
    "                            batch_size=1)\n",
    "print('测试得分:', score)\n",
    "print('测试精度:', acc)"
   ]
  }
 ]
}