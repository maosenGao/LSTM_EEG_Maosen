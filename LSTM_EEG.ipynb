{
 "metadata": {
  "language_info": {
   "codemirror_mode": {
    "name": "ipython",
    "version": 3
   },
   "file_extension": ".py",
   "mimetype": "text/x-python",
   "name": "python",
   "nbconvert_exporter": "python",
   "pygments_lexer": "ipython3",
   "version": "3.6.5-final"
  },
  "orig_nbformat": 2,
  "kernelspec": {
   "name": "python_defaultSpec_1600827216610",
   "display_name": "Python 3.6.5 64-bit ('base': conda)"
  }
 },
 "nbformat": 4,
 "nbformat_minor": 2,
 "cells": [
  {
   "cell_type": "code",
   "execution_count": 1,
   "metadata": {
    "tags": []
   },
   "outputs": [
    {
     "output_type": "stream",
     "name": "stderr",
     "text": "Using TensorFlow backend.\n"
    }
   ],
   "source": [
    "# 导入工具包\n",
    "from keras.models import Sequential\n",
    "from keras.layers import Dense, Dropout, Activation\n",
    "from keras.layers import Embedding\n",
    "from keras.layers import SimpleRNN, LSTM, GRU\n",
    "from keras.optimizers import SGD, Nadam, Adam, RMSprop\n",
    "from keras.callbacks import TensorBoard\n",
    "from keras.utils import np_utils\n",
    "import scipy.io \n",
    "import numpy as np"
   ]
  },
  {
   "source": [
    "# 第一步：导入数据"
   ],
   "cell_type": "markdown",
   "metadata": {}
  },
  {
   "cell_type": "code",
   "execution_count": 2,
   "metadata": {},
   "outputs": [],
   "source": [
    "data = scipy.io.loadmat('DATA\\sp1s_aa_1000Hz.mat')\n",
    "y_test = np.loadtxt('DATA\\labels of the test set.txt',encoding=\"utf-8\")"
   ]
  },
  {
   "source": [
    "# 第二步：预处理数据"
   ],
   "cell_type": "markdown",
   "metadata": {}
  },
  {
   "cell_type": "code",
   "execution_count": 3,
   "metadata": {},
   "outputs": [],
   "source": [
    "\"\"\"\n",
    "将训练数据调整为LSTM的正确输入尺寸\n",
    "并将数据转换为float 32\n",
    "\"\"\"\n",
    "x_train = data['x_train'].reshape((316,500,28))\n",
    "x_train /= 200\n",
    "x_train = x_train.astype('float32')\n",
    "\"\"\"\n",
    "将测试数据调整为LSTM的正确输入尺寸\n",
    "并将数据转换为float 32\n",
    "\"\"\"\n",
    "x_test = data['x_test'].reshape((100,500,28))\n",
    "x_test /= 200\n",
    "x_test = x_test.astype('float32')\n",
    "\n",
    "\"\"\"\n",
    "将标签数据调整为LSTM的正确输入尺寸\n",
    "并将数据转换为float 32\n",
    "\"\"\"\n",
    "y_train = data['y_train'].reshape(316,1)\n",
    "tmp_train = []\n",
    "for i in y_train:\n",
    "    if i == 1:\n",
    "        tmp_train.append(1)\n",
    "    elif i == 0:\n",
    "        tmp_train.append(-1)\n",
    "y_train = np.array(tmp_train)\n",
    "y_train = np_utils.to_categorical(y_train, 2)\n",
    "y_train = y_train.astype('float32')\n",
    "\n",
    "y_test = y_test.reshape(100,1)\n",
    "tmp_test = []\n",
    "for i in y_test:\n",
    "    if i == 1:\n",
    "        tmp_test.append(1)\n",
    "    elif i == 0:\n",
    "        tmp_test.append(-1)       \n",
    "y_test = np.array(tmp_test)\n",
    "y_test = np_utils.to_categorical(y_test, 2)\n",
    "y_test = y_test.astype('float32')"
   ]
  },
  {
   "cell_type": "code",
   "execution_count": 4,
   "metadata": {},
   "outputs": [],
   "source": [
    "# 第三步：构建训练模型"
   ]
  },
  {
   "cell_type": "code",
   "execution_count": 5,
   "metadata": {
    "tags": []
   },
   "outputs": [
    {
     "output_type": "stream",
     "name": "stdout",
     "text": "Model: \"sequential_1\"\n_________________________________________________________________\nLayer (type)                 Output Shape              Param #   \n=================================================================\nlstm_1 (LSTM)                (None, 500, 10)           1560      \n_________________________________________________________________\nlstm_2 (LSTM)                (None, 500, 10)           840       \n_________________________________________________________________\nlstm_3 (LSTM)                (None, 5)                 320       \n_________________________________________________________________\ndense_1 (Dense)              (None, 2)                 12        \n=================================================================\nTotal params: 2,732\nTrainable params: 2,732\nNon-trainable params: 0\n_________________________________________________________________\n"
    }
   ],
   "source": [
    "model = Sequential()\n",
    "model.add(LSTM(10, return_sequences = True, input_shape=(500, 28)))\n",
    "model.add(LSTM(10, return_sequences = True))\n",
    "model.add(LSTM(5))\n",
    "model.add(Dense(2, activation = 'softmax'))\n",
    "\n",
    "model.summary()\n",
    "\n",
    "\"\"\"\n",
    "优化器设置\n",
    "学习率为0.001\n",
    "\"\"\"\n",
    "optim = Nadam(lr = 0.001)\n",
    "# 设置损失函数为交叉熵损失函数\n",
    "model.compile(loss = 'categorical_crossentropy', optimizer = optim, metrics = ['accuracy'])"
   ]
  },
  {
   "cell_type": "code",
   "execution_count": 6,
   "metadata": {},
   "outputs": [],
   "source": [
    "# 第四步：训练模型"
   ]
  },
  {
   "cell_type": "code",
   "execution_count": 7,
   "metadata": {
    "tags": []
   },
   "outputs": [
    {
     "output_type": "stream",
     "name": "stdout",
     "text": "WARNING:tensorflow:From D:\\anacon\\lib\\site-packages\\keras\\backend\\tensorflow_backend.py:422: The name tf.global_variables is deprecated. Please use tf.compat.v1.global_variables instead.\n\nEpoch 1/15\n316/316 [==============================] - 7s 23ms/step - loss: 0.6223 - accuracy: 0.8544\nEpoch 2/15\n316/316 [==============================] - 6s 20ms/step - loss: 0.3531 - accuracy: 1.0000\nEpoch 3/15\n316/316 [==============================] - 6s 18ms/step - loss: 0.1842 - accuracy: 1.0000\nEpoch 4/15\n316/316 [==============================] - 6s 18ms/step - loss: 0.1262 - accuracy: 1.0000\nEpoch 5/15\n316/316 [==============================] - 6s 19ms/step - loss: 0.0928 - accuracy: 1.0000\nEpoch 6/15\n316/316 [==============================] - 6s 19ms/step - loss: 0.0692 - accuracy: 1.0000\nEpoch 7/15\n316/316 [==============================] - 6s 19ms/step - loss: 0.0538 - accuracy: 1.0000\nEpoch 8/15\n316/316 [==============================] - 6s 19ms/step - loss: 0.0438 - accuracy: 1.0000\nEpoch 9/15\n316/316 [==============================] - 6s 19ms/step - loss: 0.0368 - accuracy: 1.0000\nEpoch 10/15\n316/316 [==============================] - 6s 20ms/step - loss: 0.0317 - accuracy: 1.0000\nEpoch 11/15\n316/316 [==============================] - 6s 20ms/step - loss: 0.0278 - accuracy: 1.0000\nEpoch 12/15\n316/316 [==============================] - 6s 20ms/step - loss: 0.0247 - accuracy: 1.0000\nEpoch 13/15\n316/316 [==============================] - 6s 19ms/step - loss: 0.0222 - accuracy: 1.0000\nEpoch 14/15\n316/316 [==============================] - 6s 20ms/step - loss: 0.0201 - accuracy: 1.0000\nEpoch 15/15\n316/316 [==============================] - 6s 20ms/step - loss: 0.0183 - accuracy: 1.0000\n"
    },
    {
     "output_type": "execute_result",
     "data": {
      "text/plain": "<keras.callbacks.callbacks.History at 0x23298fccb00>"
     },
     "metadata": {},
     "execution_count": 7
    }
   ],
   "source": [
    "\"\"\"\n",
    "\n",
    "epochs设置为10\n",
    "batch_size设置为20\n",
    "\n",
    "\"\"\"\n",
    "\n",
    "model.fit(x_train, y_train, epochs=15, batch_size=20)"
   ]
  },
  {
   "source": [
    "# 第五步：计算最后得分和精度"
   ],
   "cell_type": "markdown",
   "metadata": {}
  },
  {
   "cell_type": "code",
   "execution_count": 8,
   "metadata": {
    "tags": []
   },
   "outputs": [
    {
     "output_type": "stream",
     "name": "stdout",
     "text": "100/100 [==============================] - 9s 87ms/step\n测试得分: 0.017455000057816507\n测试精度: 1.0\n"
    }
   ],
   "source": [
    "score, acc = model.evaluate(x_test, y_test,\n",
    "                            batch_size=1)\n",
    "print('测试得分:', score)\n",
    "print('测试精度:', acc)"
   ]
  }
 ]
}